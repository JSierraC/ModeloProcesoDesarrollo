{
 "cells": [
  {
   "cell_type": "code",
   "execution_count": null,
   "metadata": {},
   "outputs": [],
   "source": [
    "#importar la libreria Pandas y se le coloca el alias de pd\n",
    "import pandas as pd\n",
    "#importar la libreria matplotlib (matplotlib es una biblioteca de trazado 2D de python que produce \n",
    "import matplotlib.pyplot as http://localhost:8889/notebooks/Untitled2.ipynb?kernel_name=python3#plt\n",
    "# importar la libreria Seaborn (es una biblioteca de visualización de datos de Python basada en matplotlib . \n",
    "import seaborn as sns\n",
    "from sklearn import tree #Para nuestro árbol de decisiones\n",
    "\n",
    "import pydotplus # importamos para crear nuestro Gráfico de árbol de decisión\n",
    "from IPython.display import Image  #Para mostrar una imagen de nuestro gráfico\n",
    "golf = pd.read_csv('golf_dataset_Binary.csv') #Cargamos el archovo con extencion .csv"
   ]
  },
  {
   "cell_type": "code",
   "execution_count": null,
   "metadata": {},
   "outputs": [],
   "source": [
    "golf.head(5) #mostramos 5 cabeceras de los datos agregados"
   ]
  },
  {
   "cell_type": "code",
   "execution_count": null,
   "metadata": {},
   "outputs": [],
   "source": [
    "#factoriza y hace un atributo categórico a una representación numérica\n",
    "golf['Outlook'],_ = pd.factorize(golf['Outlook'])\n",
    "golf['Temperature'],_ = pd.factorize(golf['Temperature'])\n",
    "golf['Humidity'],_ = pd.factorize(golf['Humidity'])\n",
    "golf['Windy'],_ = pd.factorize(golf['Windy'])"
   ]
  },
  {
   "cell_type": "code",
   "execution_count": null,
   "metadata": {},
   "outputs": [],
   "source": [
    "print(golf) #Imprimo el resultado"
   ]
  },
  {
   "cell_type": "code",
   "execution_count": null,
   "metadata": {},
   "outputs": [],
   "source": [
    "one_hot_data = golf.loc[:,('Outlook','Temperature','Humidity','Windy')]#datos de temperatura"
   ]
  },
  {
   "cell_type": "code",
   "execution_count": null,
   "metadata": {},
   "outputs": [],
   "source": [
    "clf = tree.DecisionTreeClassifier(criterion='entropy')\n",
    "clf_train = clf.fit(one_hot_data, golf['Play'])"
   ]
  },
  {
   "cell_type": "code",
   "execution_count": null,
   "metadata": {},
   "outputs": [],
   "source": [
    "feature_names = golf.columns\n",
    "\n",
    "dot_data = tree.export_graphviz(clf_train, out_file=None, feature_names=list(one_hot_data.columns.values),\n",
    "                                class_names=['Not_Play', 'Play'], rounded = True, filled = True)\n",
    "print(dot_data)\n",
    "graph = pydotplus.graph_from_dot_data(dot_data)\n",
    "Image(graph.create_png())"
   ]
  }
 ],
 "metadata": {
  "kernelspec": {
   "display_name": "Python 3",
   "language": "python",
   "name": "python3"
  },
  "language_info": {
   "codemirror_mode": {
    "name": "ipython",
    "version": 3
   },
   "file_extension": ".py",
   "mimetype": "text/x-python",
   "name": "python",
   "nbconvert_exporter": "python",
   "pygments_lexer": "ipython3",
   "version": "3.7.5"
  }
 },
 "nbformat": 4,
 "nbformat_minor": 2
}
