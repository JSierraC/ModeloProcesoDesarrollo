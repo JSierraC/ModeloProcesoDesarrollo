{
 "cells": [
  {
   "cell_type": "markdown",
   "metadata": {},
   "source": [
    "\n",
    "# Algoritmo para la conversion de audios .wav a texto\n",
    "# Autor: Juan Jose Sierra - Leonardo Troncoso\n",
    "# convertimos el archivo de mp3 to wav\n"
   ]
  },
  {
   "cell_type": "code",
   "execution_count": 9,
   "metadata": {},
   "outputs": [
    {
     "data": {
      "text/plain": [
       "<_io.BufferedRandom name='myaudio.wav'>"
      ]
     },
     "execution_count": 9,
     "metadata": {},
     "output_type": "execute_result"
    }
   ],
   "source": [
    "from pydub import AudioSegment\n",
    "AudioSegment.converter = \"ffmpeg.exe\"\n",
    "\n",
    "wav = AudioSegment.from_mp3(\"leo.wav\")  \n",
    "wav.export(r\"myaudio.wav\",format=\"wav\")"
   ]
  },
  {
   "cell_type": "markdown",
   "metadata": {},
   "source": [
    "# leemos el archivo .wav y hacemos el reconocimiento"
   ]
  },
  {
   "cell_type": "code",
   "execution_count": 2,
   "metadata": {},
   "outputs": [],
   "source": [
    "import speech_recognition as sr\n",
    "r = sr.Recognizer()\n",
    "harvard = sr.AudioFile('Wdashdasjkda.wav')\n",
    "with harvard as source:\n",
    "     audio = r.record(source)\n",
    "a = r.recognize_google(audio)"
   ]
  },
  {
   "cell_type": "code",
   "execution_count": 3,
   "metadata": {},
   "outputs": [
    {
     "name": "stdout",
     "output_type": "stream",
     "text": [
      "la pelicula de Rapido y furiosos muy Buena\n"
     ]
    }
   ],
   "source": [
    "print(a)"
   ]
  },
  {
   "cell_type": "markdown",
   "metadata": {},
   "source": [
    "# almacenamos la informacion en la bd mysql"
   ]
  },
  {
   "cell_type": "code",
   "execution_count": 7,
   "metadata": {
    "scrolled": true
   },
   "outputs": [
    {
     "name": "stdout",
     "output_type": "stream",
     "text": [
      "[{'id': 1, 'audio': None, 'texto': 'mi texto', 'calificacion': '1', 'created_at': datetime.datetime(2019, 11, 16, 11, 16), 'updated_at': datetime.datetime(2019, 11, 16, 11, 16)}, {'id': 3, 'audio': None, 'texto': 'webmaster@python.org', 'calificacion': 'very-secret', 'created_at': None, 'updated_at': None}, {'id': 4, 'audio': None, 'texto': 'webmaste2r@python.org', 'calificacion': 'v2ery-secret', 'created_at': None, 'updated_at': None}, {'id': 5, 'audio': None, 'texto': 'name_archivo', 'calificacion': 'la pelicula de Rapido y furiosos muy Buena', 'created_at': datetime.datetime(2019, 11, 16, 0, 0), 'updated_at': datetime.datetime(2019, 11, 16, 0, 0)}, {'id': 6, 'audio': None, 'texto': 'name_archivo', 'calificacion': 'la pelicula de Rapido y furiosos muy Buena', 'created_at': datetime.datetime(2019, 11, 16, 0, 0), 'updated_at': datetime.datetime(2019, 11, 16, 0, 0)}, {'id': 7, 'audio': None, 'texto': 'name_archivo', 'calificacion': 'la pelicula de Rapido y furiosos muy Buena', 'created_at': datetime.datetime(2019, 11, 16, 0, 0), 'updated_at': datetime.datetime(2019, 11, 16, 0, 0)}]\n"
     ]
    }
   ],
   "source": [
    "\n",
    "import pymysql.cursors\n",
    "from datetime import date\n",
    "\n",
    "# Connect to the database\n",
    "connection = pymysql.connect(host='localhost',\n",
    "                             user='root',\n",
    "                             password='',\n",
    "                             db='analysis_sentimental',\n",
    "                             charset='utf8mb4',\n",
    "                             cursorclass=pymysql.cursors.DictCursor)\n",
    "\n",
    "try:\n",
    "    with connection.cursor() as cursor:\n",
    "        # Create a new record\n",
    "        sql = \"INSERT INTO `conversion` (`texto`, `calificacion`,`created_at`,`updated_at`) VALUES (%s, %s, %s, %s)\"\n",
    "        cursor.execute(sql, ('name_archivo',a,date.today(),date.today() ))\n",
    "\n",
    "    connection.commit()\n",
    "\n",
    "    with connection.cursor() as cursor:\n",
    "        # Read a single record\n",
    "        sql = \"SELECT * FROM `conversion` \"\n",
    "        cursor.execute(sql, ())\n",
    "        result = cursor.fetchall()\n",
    "        print(result)\n",
    "finally:\n",
    "    connection.close()\n",
    "\n"
   ]
  },
  {
   "cell_type": "markdown",
   "metadata": {},
   "source": [
    "# subir arhivo por scp a un servidor remoto"
   ]
  },
  {
   "cell_type": "code",
   "execution_count": 6,
   "metadata": {},
   "outputs": [],
   "source": [
    "from paramiko import SSHClient\n",
    "from scp import SCPClient\n",
    "ssh = SSHClient()\n",
    "ssh.load_system_host_keys()\n",
    "ssh.connect('hostname',2244,'username','password')\n",
    "scp = SCPClient(ssh.get_transport())\n",
    "scp.put('mimp3.mp3', recursive=True, remote_path='/home/')\n",
    "scp.close() "
   ]
  }
 ],
 "metadata": {
  "kernelspec": {
   "display_name": "Python 3",
   "language": "python",
   "name": "python3"
  },
  "language_info": {
   "codemirror_mode": {
    "name": "ipython",
    "version": 3
   },
   "file_extension": ".py",
   "mimetype": "text/x-python",
   "name": "python",
   "nbconvert_exporter": "python",
   "pygments_lexer": "ipython3",
   "version": "3.7.4"
  }
 },
 "nbformat": 4,
 "nbformat_minor": 2
}
