{
 "cells": [
  {
   "cell_type": "code",
   "execution_count": null,
   "metadata": {},
   "outputs": [],
   "source": [
    "import json\n",
    "from dicttoxml import dicttoxml\n",
    "import hashlib"
   ]
  },
  {
   "cell_type": "code",
   "execution_count": null,
   "metadata": {},
   "outputs": [],
   "source": [
    "PERSON_INDEX = {\n",
    "        'id' : 1,\n",
    "        'name' : 'Corey',\n",
    "        'age' : 26,\n",
    "        'location' : 'Austin, TX'\n",
    "}"
   ]
  },
  {
   "cell_type": "code",
   "execution_count": null,
   "metadata": {},
   "outputs": [],
   "source": [
    "def get_person(person_id):\n",
    "    person_id = int(person_id)\n",
    "    return PERSON_INDEX[person_id]\n",
    "\n",
    "def get_person_hash(person_id):\n",
    "    hash_value = hashlib.md5()\n",
    "    person = get_person(person_id)\n",
    "    hash_value.update(\"{}-{}-{}-{}\".format(\n",
    "            person['id'],\n",
    "            person['name'],\n",
    "            person['age'],\n",
    "            person['location']\n",
    "    ).encode('UTF-8'))\n",
    "    return hash_value.hexdigest()\n",
    "\n",
    "def serialize_person(person, content_type):\n",
    "    if content_type == 'application/json':\n",
    "        return json.dumps(person)\n",
    "    elif content_type == 'application/xml' or content_type == 'text/xml':\n",
    "        return dicttoxml(person).decode('UTF-8')\n",
    "    elif content_type == 'text/html':\n",
    "        return '''<p>{} is {} years old and lives in {}.</p>'''.format(\n",
    "            person['name'], person['age'], person['location']\n",
    "        )\n",
    "    \n",
    "def get_request_content_type(request):\n",
    "    if 'headers' in request and 'Content-Type' in request['headers']:\n",
    "        return request['headers']['Content-Type']\n",
    "    else:\n",
    "        return 'text/html'\n",
    "\n",
    "def get_request_etag(request):\n",
    "    if 'headers' in request and 'If-None-Match' in request['headers']:\n",
    "        return request['headers']['If-None-Match']\n",
    "    else:\n",
    "        return None"
   ]
  },
  {
   "cell_type": "code",
   "execution_count": null,
   "metadata": {},
   "outputs": [],
   "source": [
    "REQUEST = json.dumps({\n",
    "    'id' : '1',\n",
    "    'headers' : {\n",
    "        'Content-Type' : 'application/json'   \n",
    "    }\n",
    "})"
   ]
  },
  {
   "cell_type": "code",
   "execution_count": null,
   "metadata": {},
   "outputs": [],
   "source": [
    "# GET /test\n",
    "request = json.loads(REQUEST)\n",
    "print(request['body'])\n",
    "print('path param index test 1')"
   ]
  },
  {
   "cell_type": "code",
   "execution_count": null,
   "metadata": {},
   "outputs": [],
   "source": [
    "# POST /test\n",
    "request = json.loads(REQUEST)\n",
    "print(request['body']['id'])\n",
    "print('path param index test 1')"
   ]
  },
  {
   "cell_type": "code",
   "execution_count": null,
   "metadata": {},
   "outputs": [],
   "source": [
    "# POST /person\n",
    "request = json.loads(REQUEST)\n",
    "print(request)\n",
    "etag = get_request_etag(request)\n",
    "person_id = int(request['id'])\n",
    "current_person_hash = get_person_hash(person_id)\n",
    "status_code = 200\n",
    "if etag == current_person_hash:\n",
    "    status_code = 304\n",
    "else:        \n",
    "    person = get_person(person_id)\n",
    "    response_value = serialize_person(person, get_request_content_type(request))\n",
    "    print(response_value)"
   ]
  },
  {
   "cell_type": "code",
   "execution_count": null,
   "metadata": {},
   "outputs": [],
   "source": [
    "# GET /person/:id\n",
    "print(json.dumps({\n",
    "        'headers' : {\n",
    "            'Content-Type' : get_request_content_type(request),\n",
    "            'ETag' : current_person_hash\n",
    "        },\n",
    "        'status' : status_code\n",
    "    })\n",
    ")"
   ]
  },
  {
   "cell_type": "code",
   "execution_count": 44,
   "metadata": {},
   "outputs": [
    {
     "name": "stdout",
     "output_type": "stream",
     "text": [
      "estimation of gravity on a Samsung\n"
     ]
    }
   ],
   "source": [
    "from pydub import AudioSegment\n",
    "import os, sys\n",
    "import speech_recognition as sr\n",
    "\n",
    "r = sr.Recognizer()\n",
    "AudioSegment.converter = \"ffmpeg.exe\"\n",
    "\n",
    "def voiceToWord():\n",
    "    #wav = AudioSegment.from_mp3(archivo)  \n",
    "    wav = AudioSegment.from_file(\"wts.mp4\", \"mp4\")  \n",
    "    \n",
    "    wav.export(r'example2.wav',format=\"wav\")\n",
    "    harvard = sr.AudioFile(\"example2.wav\")\n",
    "    with harvard as source:\n",
    "         audio = r.record(source)\n",
    "    return r.recognize_google(audio)\n",
    "\n",
    "print(voiceToWord())\n"
   ]
  }
 ],
 "metadata": {
  "kernelspec": {
   "display_name": "Python 3",
   "language": "python",
   "name": "python3"
  },
  "language_info": {
   "codemirror_mode": {
    "name": "ipython",
    "version": 3
   },
   "file_extension": ".py",
   "mimetype": "text/x-python",
   "name": "python",
   "nbconvert_exporter": "python",
   "pygments_lexer": "ipython3",
   "version": "3.7.4"
  }
 },
 "nbformat": 4,
 "nbformat_minor": 2
}
